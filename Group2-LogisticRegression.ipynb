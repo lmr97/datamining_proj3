{
 "cells": [
  {
   "cell_type": "markdown",
   "id": "ba076244",
   "metadata": {},
   "source": [
    "# Classical Statistics Approach"
   ]
  },
  {
   "cell_type": "markdown",
   "id": "daa2ea04",
   "metadata": {},
   "source": [
    "Let's start with loading our data, splitting it, then training a model on all possible input variables."
   ]
  },
  {
   "cell_type": "code",
   "execution_count": 2,
   "id": "562ca831",
   "metadata": {},
   "outputs": [],
   "source": [
    "import statsmodels.api as sm\n",
    "import matplotlib.pyplot as plt\n",
    "from statsmodels.tools.eval_measures import aic\n",
    "from sklearn.model_selection import train_test_split, StratifiedKFold, GridSearchCV\n",
    "from sklearn.metrics import f1_score, accuracy_score, recall_score\n",
    "import pandas as pd\n",
    "import numpy as np\n",
    "import math"
   ]
  },
  {
   "cell_type": "code",
   "execution_count": 3,
   "id": "70309c17",
   "metadata": {},
   "outputs": [],
   "source": [
    "df1 = pd.read_csv(\"bankruptcy.csv\")\n",
    "df1['Intercept'] = 1  # allows the regression to have an intercept\n",
    "x_train, x_test = train_test_split(df1[['X1', 'X2', 'X3', 'X4', 'Intercept']], \n",
    "                                   test_size=0.2, random_state=120)\n",
    "y_train, y_test = train_test_split(df1['Group'], test_size=0.2, random_state=120)"
   ]
  },
  {
   "cell_type": "code",
   "execution_count": 4,
   "id": "33e89e25",
   "metadata": {},
   "outputs": [
    {
     "name": "stdout",
     "output_type": "stream",
     "text": [
      "Optimization terminated successfully.\n",
      "         Current function value: 0.317232\n",
      "         Iterations 8\n",
      "                           Logit Regression Results                           \n",
      "==============================================================================\n",
      "Dep. Variable:                  Group   No. Observations:                   36\n",
      "Model:                          Logit   Df Residuals:                       31\n",
      "Method:                           MLE   Df Model:                            4\n",
      "Date:                Wed, 27 Mar 2024   Pseudo R-squ.:                  0.5382\n",
      "Time:                        18:09:47   Log-Likelihood:                -11.420\n",
      "converged:                       True   LL-Null:                       -24.731\n",
      "Covariance Type:            nonrobust   LLR p-value:                 2.372e-05\n",
      "==============================================================================\n",
      "                 coef    std err          z      P>|z|      [0.025      0.975]\n",
      "------------------------------------------------------------------------------\n",
      "X1             6.2847      5.729      1.097      0.273      -4.945      17.514\n",
      "X2            -3.6808     12.424     -0.296      0.767     -28.032      20.670\n",
      "X3             2.9764      1.177      2.529      0.011       0.670       5.283\n",
      "X4            -2.2975      3.784     -0.607      0.544      -9.714       5.119\n",
      "Intercept     -4.5690      2.522     -1.812      0.070      -9.511       0.373\n",
      "==============================================================================\n"
     ]
    }
   ],
   "source": [
    "full_model = sm.Logit(y_train, x_train)\n",
    "full_model_fit = full_model.fit()\n",
    "print(full_model_fit.summary())"
   ]
  },
  {
   "cell_type": "markdown",
   "id": "44f1f843",
   "metadata": {},
   "source": [
    "Now we can see about narrowing the model down. Since the $X_2$ and $X_4$  $p$-values are so high, let's see how the model would fair without them, and compare the Akaike information criterion (AIC) values for the reduced and full models. First, let's just take out $X_1$ for our reduced model, and see how it compares."
   ]
  },
  {
   "cell_type": "code",
   "execution_count": 5,
   "id": "ee295ea3",
   "metadata": {},
   "outputs": [
    {
     "name": "stdout",
     "output_type": "stream",
     "text": [
      "Optimization terminated successfully.\n",
      "         Current function value: 0.318429\n",
      "         Iterations 8\n",
      "\n",
      "   Full model AIC: 32.841\n",
      "Reduced model AIC: 30.927\n"
     ]
    }
   ],
   "source": [
    "# fitting model without X_2\n",
    "x_train2 = x_train[['X1', 'X3', 'X4', 'Intercept']]\n",
    "reduced_model1 = sm.Logit(y_train, x_train2)\n",
    "reduced_model1_fit = reduced_model1.fit()\n",
    "\n",
    "full_model_aic = aic(llf=full_model.loglike(full_model_fit.params), \n",
    "                     nobs=x_train.size, \n",
    "                     df_modelwc=len(full_model_fit.params))\n",
    "print(\"\\n   Full model AIC: {:.3f}\".format(full_model_aic))\n",
    "\n",
    "reduced_model1_aic = aic(llf=reduced_model1.loglike(reduced_model1_fit.params), \n",
    "                        nobs=x_train2.shape[0], \n",
    "                        df_modelwc=len(reduced_model1_fit.params))\n",
    "print(\"Reduced model AIC: {:.3f}\".format(reduced_model1_aic))"
   ]
  },
  {
   "cell_type": "markdown",
   "id": "2db97205",
   "metadata": {},
   "source": [
    "The AIC of a model measures how much information from the original data is <i>lost</i> by the model, so a lower AIC is better. This means the reduced model is better in comparison to the full model. To see if removing another variable improves it further, let's look at the summary of the reduced model:"
   ]
  },
  {
   "cell_type": "code",
   "execution_count": 6,
   "id": "7582259d",
   "metadata": {},
   "outputs": [
    {
     "name": "stdout",
     "output_type": "stream",
     "text": [
      "                           Logit Regression Results                           \n",
      "==============================================================================\n",
      "Dep. Variable:                  Group   No. Observations:                   36\n",
      "Model:                          Logit   Df Residuals:                       32\n",
      "Method:                           MLE   Df Model:                            3\n",
      "Date:                Wed, 27 Mar 2024   Pseudo R-squ.:                  0.5365\n",
      "Time:                        18:09:47   Log-Likelihood:                -11.463\n",
      "converged:                       True   LL-Null:                       -24.731\n",
      "Covariance Type:            nonrobust   LLR p-value:                 7.371e-06\n",
      "==============================================================================\n",
      "                 coef    std err          z      P>|z|      [0.025      0.975]\n",
      "------------------------------------------------------------------------------\n",
      "X1             4.8697      2.909      1.674      0.094      -0.831      10.570\n",
      "X3             2.8358      1.051      2.699      0.007       0.776       4.895\n",
      "X4            -2.2554      3.764     -0.599      0.549      -9.633       5.122\n",
      "Intercept     -4.2771      2.258     -1.894      0.058      -8.703       0.149\n",
      "==============================================================================\n"
     ]
    }
   ],
   "source": [
    "print(reduced_model1_fit.summary())"
   ]
  },
  {
   "cell_type": "markdown",
   "id": "fe34788f",
   "metadata": {},
   "source": [
    "$X_4$ seems to be our next candidate to elimate. So let's try it and see how it goes:"
   ]
  },
  {
   "cell_type": "code",
   "execution_count": 7,
   "id": "9bdfa0be",
   "metadata": {},
   "outputs": [
    {
     "name": "stdout",
     "output_type": "stream",
     "text": [
      "Optimization terminated successfully.\n",
      "         Current function value: 0.323565\n",
      "         Iterations 8\n",
      "\n",
      "1st reduced model AIC: 30.927\n",
      "2nd reduced model AIC: 29.297\n"
     ]
    }
   ],
   "source": [
    "# fitting model without X_2 and X_4\n",
    "x_train3 = x_train[['X1', 'X3', 'Intercept']]\n",
    "reduced_model2 = sm.Logit(y_train, x_train3)\n",
    "reduced_model2_fit = reduced_model2.fit()\n",
    "\n",
    "print(\"\\n1st reduced model AIC: {:.3f}\".format(reduced_model1_aic))\n",
    "\n",
    "reduced_model2_aic = aic(llf=reduced_model2.loglike(reduced_model2_fit.params), \n",
    "                        nobs=x_train3.shape[0], \n",
    "                        df_modelwc=len(reduced_model2_fit.params))\n",
    "print(\"2nd reduced model AIC: {:.3f}\".format(reduced_model2_aic))"
   ]
  },
  {
   "cell_type": "markdown",
   "id": "d90ea747",
   "metadata": {},
   "source": [
    "Even better! Let's see if we have any insignificant variables still:"
   ]
  },
  {
   "cell_type": "code",
   "execution_count": 8,
   "id": "9c6e00ce",
   "metadata": {},
   "outputs": [
    {
     "name": "stdout",
     "output_type": "stream",
     "text": [
      "                           Logit Regression Results                           \n",
      "==============================================================================\n",
      "Dep. Variable:                  Group   No. Observations:                   36\n",
      "Model:                          Logit   Df Residuals:                       33\n",
      "Method:                           MLE   Df Model:                            2\n",
      "Date:                Wed, 27 Mar 2024   Pseudo R-squ.:                  0.5290\n",
      "Time:                        18:09:47   Log-Likelihood:                -11.648\n",
      "converged:                       True   LL-Null:                       -24.731\n",
      "Covariance Type:            nonrobust   LLR p-value:                 2.082e-06\n",
      "==============================================================================\n",
      "                 coef    std err          z      P>|z|      [0.025      0.975]\n",
      "------------------------------------------------------------------------------\n",
      "X1             5.5291      2.841      1.946      0.052      -0.039      11.097\n",
      "X3             2.7476      1.025      2.681      0.007       0.739       4.756\n",
      "Intercept     -5.1018      1.945     -2.623      0.009      -8.914      -1.290\n",
      "==============================================================================\n"
     ]
    }
   ],
   "source": [
    "print(reduced_model2_fit.summary())"
   ]
  },
  {
   "cell_type": "markdown",
   "id": "ce144d7a",
   "metadata": {},
   "source": [
    "The $X_1$ confidence interval still contains zero, so that means it might not be significant. Let's see how the AIC is when we remove it:"
   ]
  },
  {
   "cell_type": "code",
   "execution_count": 9,
   "id": "5918a162",
   "metadata": {},
   "outputs": [
    {
     "name": "stdout",
     "output_type": "stream",
     "text": [
      "Optimization terminated successfully.\n",
      "         Current function value: 0.393315\n",
      "         Iterations 7\n",
      "\n",
      "2st reduced model AIC: 29.297\n",
      "3nd reduced model AIC: 32.319\n"
     ]
    }
   ],
   "source": [
    "x_train4 = x_train[['X3', 'Intercept']]\n",
    "reduced_model3 = sm.Logit(y_train, x_train4)\n",
    "reduced_model3_fit = reduced_model3.fit()\n",
    "\n",
    "print(\"\\n2st reduced model AIC: {:.3f}\".format(reduced_model2_aic))\n",
    "\n",
    "reduced_model3_aic = aic(llf=reduced_model3.loglike(reduced_model3_fit.params), \n",
    "                        nobs=x_train4.shape[0], \n",
    "                        df_modelwc=len(reduced_model3_fit.params))\n",
    "print(\"3nd reduced model AIC: {:.3f}\".format(reduced_model3_aic))"
   ]
  },
  {
   "cell_type": "markdown",
   "id": "2ccca1c8",
   "metadata": {},
   "source": [
    "So removing it increases the AIC, meaning that the model is better off with $X_1$ after all. This gives us our final model:"
   ]
  },
  {
   "cell_type": "code",
   "execution_count": 10,
   "id": "7b20ffb3",
   "metadata": {},
   "outputs": [
    {
     "name": "stdout",
     "output_type": "stream",
     "text": [
      "                           Logit Regression Results                           \n",
      "==============================================================================\n",
      "Dep. Variable:                  Group   No. Observations:                   36\n",
      "Model:                          Logit   Df Residuals:                       33\n",
      "Method:                           MLE   Df Model:                            2\n",
      "Date:                Wed, 27 Mar 2024   Pseudo R-squ.:                  0.5290\n",
      "Time:                        18:09:47   Log-Likelihood:                -11.648\n",
      "converged:                       True   LL-Null:                       -24.731\n",
      "Covariance Type:            nonrobust   LLR p-value:                 2.082e-06\n",
      "==============================================================================\n",
      "                 coef    std err          z      P>|z|      [0.025      0.975]\n",
      "------------------------------------------------------------------------------\n",
      "X1             5.5291      2.841      1.946      0.052      -0.039      11.097\n",
      "X3             2.7476      1.025      2.681      0.007       0.739       4.756\n",
      "Intercept     -5.1018      1.945     -2.623      0.009      -8.914      -1.290\n",
      "==============================================================================\n"
     ]
    }
   ],
   "source": [
    "logit_model = reduced_model2\n",
    "logit_model_fit = reduced_model2_fit\n",
    "print(logit_model_fit.summary())"
   ]
  },
  {
   "cell_type": "markdown",
   "id": "8856fc3e",
   "metadata": {},
   "source": [
    "## Coefficient estimation\n",
    "Since the coefficients are already given in the fitted model, we simply need to exponentiate them to get $\\exp(\\beta_i)$ for $i \\in [0,2]$, giving the following:"
   ]
  },
  {
   "cell_type": "code",
   "execution_count": 11,
   "id": "b9647a85",
   "metadata": {},
   "outputs": [
    {
     "name": "stdout",
     "output_type": "stream",
     "text": [
      "beta        exp(beta_i)\n",
      "X1           251.905737\n",
      "X3            15.605700\n",
      "Intercept      0.006086\n",
      "dtype: float64\n"
     ]
    }
   ],
   "source": [
    "print(\"beta\", \"{:>18}\".format(\"exp(beta_i)\"),end=None)\n",
    "print(logit_model_fit.params.apply(math.exp))"
   ]
  },
  {
   "cell_type": "markdown",
   "id": "f8dd2de4",
   "metadata": {},
   "source": [
    "The 95% confidence intervals for these exponentiated coefficients are easily derived as well:"
   ]
  },
  {
   "cell_type": "code",
   "execution_count": 12,
   "id": "e82f2f62",
   "metadata": {},
   "outputs": [
    {
     "name": "stdout",
     "output_type": "stream",
     "text": [
      "                    0           1\n",
      "X1         210.803092  301.022627\n",
      "X3          14.634346   16.641527\n",
      "Intercept    0.005387    0.006875\n"
     ]
    }
   ],
   "source": [
    "ci_df = logit_model_fit.conf_int(0.95)\n",
    "ci_df[0] = ci_df[0].apply(math.exp)\n",
    "ci_df[1] = ci_df[1].apply(math.exp)\n",
    "print(ci_df)"
   ]
  },
  {
   "cell_type": "markdown",
   "id": "d516778a",
   "metadata": {},
   "source": [
    "These are multiplicative confidence intervals, which means that they are the <i>product</i> of the estimate and $\\exp(\\text{MoE})$ (margin of error) or the estimate and $\\exp(-\\text{MoE})$ for the low end of the interval. Since they are each a 95% confidence interval, that means that, of all possible values of the given parameter, 95% of those values will fall into the interval."
   ]
  },
  {
   "cell_type": "markdown",
   "id": "b5be75dd",
   "metadata": {},
   "source": [
    "## Error analysis\n",
    "First, we'll compute the error rate, which is simply complement of accuracy:"
   ]
  },
  {
   "cell_type": "code",
   "execution_count": 13,
   "id": "b2a06330",
   "metadata": {},
   "outputs": [
    {
     "name": "stdout",
     "output_type": "stream",
     "text": [
      "Error rate: 0.100\n"
     ]
    }
   ],
   "source": [
    "x_test = x_test[['X1', 'X3', 'Intercept']]\n",
    "y_pred = logit_model_fit.predict(x_test)\n",
    "y_pred = y_pred.apply(round)     # take continuous probabilities and round them to 1 or 0\n",
    "\n",
    "pred_perf_dict = {\n",
    "    \"True_Y\": y_test,\n",
    "    \"Predictions\": y_pred}\n",
    "pred_perf = pd.DataFrame(pred_perf_dict)\n",
    "pred_perf.reset_index(drop=True, inplace=True)\n",
    "pred_perf['Correct'] = (pred_perf['True_Y'] == pred_perf['Predictions'])\n",
    "\n",
    "# divide True's (1's) by size to get accuracy\n",
    "error_rate = 1 - pred_perf['Correct'].sum()/pred_perf['Correct'].size  \n",
    "print('Error rate: {:.3f}'.format(error_rate))\n"
   ]
  },
  {
   "cell_type": "markdown",
   "id": "3b881a86",
   "metadata": {},
   "source": [
    "That's a 10% error rate. Not the best, but not bad either! Now we can move to the $F_1$ score, which is the harmonic mean of the model's precision and recall, easily found as follows:"
   ]
  },
  {
   "cell_type": "code",
   "execution_count": 14,
   "id": "1fddb5fa",
   "metadata": {},
   "outputs": [
    {
     "name": "stdout",
     "output_type": "stream",
     "text": [
      "F1 score: 0.909\n"
     ]
    }
   ],
   "source": [
    "print('F1 score: {:.3f}'.format(f1_score(y_test, y_pred)))"
   ]
  },
  {
   "cell_type": "markdown",
   "id": "f0de88c7",
   "metadata": {},
   "source": [
    "Finally, we'll calculate the $G_\\text{mean}$, which is the geometric mean of recall and specificity (specificity being a measure of true negatives). For our model, it is:"
   ]
  },
  {
   "cell_type": "code",
   "execution_count": 15,
   "metadata": {},
   "outputs": [
    {
     "name": "stdout",
     "output_type": "stream",
     "text": [
      "[[ 5.  1.  6.]\n",
      " [ 0.  4.  4.]\n",
      " [ 5.  5. 10.]]\n"
     ]
    },
    {
     "name": "stderr",
     "output_type": "stream",
     "text": [
      "/tmp/ipykernel_282/2850144548.py:4: FutureWarning: Series.__getitem__ treating keys as positions is deprecated. In a future version, integer keys will always be treated as labels (consistent with DataFrame behavior). To access a value by position, use `ser.iloc[pos]`\n",
      "  confusion[0][1] = pred_perf.iloc[np.where((pred_perf['True_Y'] == 0) & (pred_perf['Predictions'] == 1))].count()[0]\n",
      "/tmp/ipykernel_282/2850144548.py:5: FutureWarning: Series.__getitem__ treating keys as positions is deprecated. In a future version, integer keys will always be treated as labels (consistent with DataFrame behavior). To access a value by position, use `ser.iloc[pos]`\n",
      "  confusion[1][0] = pred_perf.iloc[np.where((pred_perf['True_Y'] == 1) & (pred_perf['Predictions'] == 0))].count()[0]\n"
     ]
    }
   ],
   "source": [
    "# we need a confusion matrix with sums first\n",
    "confusion = np.zeros((3,3))\n",
    "confusion[0][0] = pred_perf['Correct'][pred_perf.True_Y == 1].sum()\n",
    "confusion[0][1] = pred_perf.iloc[np.where((pred_perf['True_Y'] == 0) & (pred_perf['Predictions'] == 1))].count()[0]\n",
    "confusion[1][0] = pred_perf.iloc[np.where((pred_perf['True_Y'] == 1) & (pred_perf['Predictions'] == 0))].count()[0]\n",
    "confusion[1][1] = pred_perf['Correct'][pred_perf.True_Y == 0].sum()\n",
    "\n",
    "confusion[2] = np.sum(confusion, axis=0)\n",
    "confusion[0][2] = np.sum(confusion, axis=1)[0]\n",
    "confusion[1][2] = np.sum(confusion, axis=1)[1]\n",
    "confusion[2][2] = np.sum(confusion, axis=1)[2]\n",
    "\n",
    "print(confusion)\n"
   ]
  },
  {
   "cell_type": "markdown",
   "id": "8260718a",
   "metadata": {},
   "source": [
    "## Descision boundary\n",
    "There are only two outcomes in this data, and since there are two input variables in addition to that output variable, the decision boundary is a plane that bisects a 3-dimensional space."
   ]
  },
  {
   "cell_type": "markdown",
   "id": "00f2188d",
   "metadata": {},
   "source": [
    "# Machine Learning Approach"
   ]
  },
  {
   "cell_type": "code",
   "execution_count": 16,
   "id": "8f94c6d9",
   "metadata": {},
   "outputs": [],
   "source": [
    "from sklearn.preprocessing import StandardScaler, OneHotEncoder\n",
    "from sklearn.pipeline import Pipeline\n",
    "from sklearn.compose import ColumnTransformer\n",
    "from sklearn.linear_model import LogisticRegression\n",
    "from sklearn.feature_selection import SelectKBest, f_classif"
   ]
  },
  {
   "cell_type": "code",
   "execution_count": 17,
   "id": "89b16fc4",
   "metadata": {},
   "outputs": [],
   "source": [
    "defaultData = pd.read_csv('Default.csv')\n",
    "bankruptcyData = pd.read_csv('bankruptcy.csv')"
   ]
  },
  {
   "cell_type": "markdown",
   "id": "431e7ccb",
   "metadata": {},
   "source": [
    "First, we set the x value to be the features, and the y value will be the default."
   ]
  },
  {
   "cell_type": "code",
   "execution_count": 18,
   "id": "61099a82",
   "metadata": {},
   "outputs": [
    {
     "data": {
      "text/plain": [
       "Index(['student', 'balance', 'income'], dtype='object')"
      ]
     },
     "execution_count": 18,
     "metadata": {},
     "output_type": "execute_result"
    }
   ],
   "source": [
    "x = defaultData.drop('default', axis=1)\n",
    "y = defaultData['default']\n",
    "\n",
    "x.columns"
   ]
  },
  {
   "cell_type": "markdown",
   "id": "0dde5f08",
   "metadata": {},
   "source": [
    "This shows us what parameters we will be working with on the x-axis.  \n",
    "  \n",
    "Now, we will need to split the data into the test and training data. The test size will be 20% of the data set. We will split it two seperate times here, one for the univariate distribution, and the other for the logistic regression."
   ]
  },
  {
   "cell_type": "code",
   "execution_count": 19,
   "id": "4c7c766d",
   "metadata": {},
   "outputs": [],
   "source": [
    "# Univariate distribution split\n",
    "# We only want the continuous variables, so we can drop the student.\n",
    "xUni = defaultData.drop(['default', 'student'], axis=1)\n",
    "# xUniTrain, xUniTest, yUniTrain, yUniTest = train_test_split(xUni, y, random_state=42, stratify=y)\n",
    "\n",
    "# Logistical Regression split\n",
    "xTrain, xTest, yTrain, yTest = train_test_split(x, y, test_size=0.2, random_state=42, stratify=y)"
   ]
  },
  {
   "cell_type": "markdown",
   "id": "300cc4c5",
   "metadata": {},
   "source": [
    "We can take a look at the univariate distribution for the continuous features and the default.  \n",
    "  \n",
    "First, we can look at the balance distribution."
   ]
  },
  {
   "cell_type": "code",
   "execution_count": 20,
   "id": "97399e31",
   "metadata": {},
   "outputs": [
    {
     "data": {
      "image/png": "[encoded data removed]",
      "text/plain": [
       "<Figure size 640x480 with 1 Axes>"
      ]
     },
     "metadata": {},
     "output_type": "display_data"
    }
   ],
   "source": [
    "# # Creating and fitting the model\n",
    "# selector = SelectKBest(f_classif, k=2)\n",
    "# selector.fit(xUniTrain, yUniTrain)\n",
    "# scores = -np.log10(selector.pvalues_)\n",
    "# scores /= scores.max()\n",
    "\n",
    "# # Now we can plot the model\n",
    "# xIndices = np.arange(xUni.shape[-1])\n",
    "# plt.figure(1)\n",
    "# plt.clf()\n",
    "# plt.bar(xIndices, scores, width=0.2)\n",
    "# plt.title(\"Feature univariate distribution\")\n",
    "# plt.xlabel(\"Feature number\")\n",
    "# plt.ylabel(\"Score\")\n",
    "# plt.show()\n",
    "plt.hist(xUni['balance'])\n",
    "plt.title('Balance Distribution')\n",
    "plt.xlabel('Balance')\n",
    "plt.show()"
   ]
  },
  {
   "cell_type": "markdown",
   "id": "797304d8",
   "metadata": {},
   "source": [
    "Now lets take a look at the income."
   ]
  },
  {
   "cell_type": "code",
   "execution_count": 21,
   "id": "107f1132",
   "metadata": {},
   "outputs": [
    {
     "data": {
      "image/png": "[encoded data removed]",
      "text/plain": [
       "<Figure size 640x480 with 1 Axes>"
      ]
     },
     "metadata": {},
     "output_type": "display_data"
    }
   ],
   "source": [
    "plt.hist(xUni['income'])\n",
    "plt.title('Income Distribution')\n",
    "plt.xlabel('Income')\n",
    "plt.show()"
   ]
  },
  {
   "cell_type": "markdown",
   "id": "dfb2b919",
   "metadata": {},
   "source": [
    "Finally, we can take a look at the target."
   ]
  },
  {
   "cell_type": "code",
   "execution_count": 25,
   "id": "88468da4",
   "metadata": {},
   "outputs": [
    {
     "data": {
      "image/png": "[encoded data removed]",
      "text/plain": [
       "<Figure size 640x480 with 1 Axes>"
      ]
     },
     "metadata": {},
     "output_type": "display_data"
    }
   ],
   "source": [
    "plt.hist(y)\n",
    "plt.title('Default Distribution')\n",
    "plt.xlabel('Default')\n",
    "plt.show()"
   ]
  },
  {
   "cell_type": "markdown",
   "id": "7316c03b",
   "metadata": {},
   "source": [
    "Based off these distributions, it looks like balance is skewed to the left a little bit, and the income seems normal. The default however is very drastic. Few people qualify for default, relative to those that don't qualify."
   ]
  },
  {
   "cell_type": "markdown",
   "id": "760caab6",
   "metadata": {},
   "source": [
    "Now we will need to make sure the data is in the correct format to be used. Balance and income are numeric features while student is a categorical feature."
   ]
  },
  {
   "cell_type": "code",
   "execution_count": 23,
   "id": "cafaca32",
   "metadata": {},
   "outputs": [],
   "source": [
    "numFeats = ['balance', 'income']\n",
    "catFeats = ['student']\n",
    "\n",
    "numTransformer = StandardScaler()\n",
    "catTransformer = OneHotEncoder(handle_unknown=\"ignore\")\n",
    "\n",
    "preprocessor = ColumnTransformer(\n",
    "    transformers=[\n",
    "        ('num', numTransformer, numFeats),\n",
    "        ('cat', catTransformer, catFeats)\n",
    "    ])\n",
    "\n",
    "pipeline = Pipeline([\n",
    "    ('preprocessor', preprocessor),\n",
    "    ('classifier', LogisticRegression(random_state=42, max_iter=1000))\n",
    "])\n",
    "\n",
    "grid = {\n",
    "    'classifier__C': np.logspace(-4, 4, 20),\n",
    "    'classifier__solver': ['lbfgs', 'liblinear']\n",
    "}"
   ]
  },
  {
   "cell_type": "markdown",
   "id": "1c9131c1",
   "metadata": {},
   "source": [
    "Now we can start the cross-validation. For this we will do 5 folds."
   ]
  },
  {
   "cell_type": "code",
   "execution_count": 24,
   "id": "34dd3936",
   "metadata": {},
   "outputs": [
    {
     "name": "stdout",
     "output_type": "stream",
     "text": [
      "Train Accuracy: 97.38%\n",
      "Test Accuracy: 97.25%\n",
      "Train Error Rate: 2.62%\n",
      "Test Error Rate: 2.75%\n",
      "Test F1 Score: 0.43\n"
     ]
    }
   ],
   "source": [
    "cv = StratifiedKFold(n_splits=5)\n",
    "gridSearch = GridSearchCV(pipeline, grid, cv=cv, scoring='accuracy', n_jobs=-1)\n",
    "\n",
    "gridSearch.fit(xTrain, yTrain)\n",
    "\n",
    "# Extracting the best parameters and score\n",
    "bestParams = gridSearch.best_params_\n",
    "bestScore = gridSearch.best_score_\n",
    "\n",
    "# Evaluating the model on the test data\n",
    "bestModel = gridSearch.best_estimator_\n",
    "yPredTest = bestModel.predict(xTest)\n",
    "yPredTrain = bestModel.predict(xTrain)\n",
    "\n",
    "# Getting the metrics\n",
    "trainAccuracy = accuracy_score(yTrain, yPredTrain)\n",
    "TestAccuracy = accuracy_score(yTest, yPredTest)\n",
    "trainErrorRate = 1 - trainAccuracy\n",
    "testErrorRate = 1 - TestAccuracy\n",
    "f1ScoreTest = f1_score(yTest, yPredTest, pos_label='Yes')\n",
    "\n",
    "# Print metrics\n",
    "print(f\"Train Accuracy: {trainAccuracy*100:.2f}%\")\n",
    "print(f\"Test Accuracy: {TestAccuracy*100:.2f}%\")\n",
    "print(f\"Train Error Rate: {trainErrorRate*100:.2f}%\")\n",
    "print(f\"Test Error Rate: {testErrorRate*100:.2f}%\")\n",
    "print(f\"Test F1 Score: {f1ScoreTest:.2f}\")"
   ]
  },
  {
   "cell_type": "markdown",
   "id": "ab94e7ca",
   "metadata": {},
   "source": [
    "# Model Comparison"
   ]
  },
  {
   "cell_type": "markdown",
   "id": "68e19516",
   "metadata": {},
   "source": [
    "# Discussion"
   ]
  }
 ],
 "metadata": {
  "kernelspec": {
   "display_name": "Python 3 (ipykernel)",
   "language": "python",
   "name": "python3"
  },
  "language_info": {
   "codemirror_mode": {
    "name": "ipython",
    "version": 3
   },
   "file_extension": ".py",
   "mimetype": "text/x-python",
   "name": "python",
   "nbconvert_exporter": "python",
   "pygments_lexer": "ipython3",
   "version": "3.10.14"
  }
 },
 "nbformat": 4,
 "nbformat_minor": 5
}
