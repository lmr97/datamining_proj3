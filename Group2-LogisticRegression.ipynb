{
 "cells": [
  {
   "cell_type": "markdown",
   "id": "ba076244",
   "metadata": {},
   "source": [
    "# Classical Statistics Approach"
   ]
  },
  {
   "cell_type": "code",
   "execution_count": 32,
   "id": "562ca831",
   "metadata": {},
   "outputs": [],
   "source": [
    "import statsmodels.api as sm\n",
    "from statsmodels.tools.eval_measures import aic\n",
    "import pandas as pd\n",
    "from sklearn.model_selection import train_test_split"
   ]
  },
  {
   "cell_type": "code",
   "execution_count": 27,
   "id": "70309c17",
   "metadata": {},
   "outputs": [],
   "source": [
    "df1 = pd.read_csv(\"bankruptcy.csv\")\n",
    "x_train, x_test = train_test_split(df1.iloc[:,:4], test_size=0.2, random_state=120)\n",
    "y_train, y_test = train_test_split(df1['Group'], test_size=0.2, random_state=120)"
   ]
  },
  {
   "cell_type": "code",
   "execution_count": 41,
   "id": "33e89e25",
   "metadata": {},
   "outputs": [
    {
     "name": "stdout",
     "output_type": "stream",
     "text": [
      "Optimization terminated successfully.\n",
      "         Current function value: 0.380316\n",
      "         Iterations 7\n",
      "                           Logit Regression Results                           \n",
      "==============================================================================\n",
      "Dep. Variable:                  Group   No. Observations:                   36\n",
      "Model:                          Logit   Df Residuals:                       32\n",
      "Method:                           MLE   Df Model:                            3\n",
      "Date:                Tue, 26 Mar 2024   Pseudo R-squ.:                  0.4464\n",
      "Time:                        14:33:05   Log-Likelihood:                -13.691\n",
      "converged:                       True   LL-Null:                       -24.731\n",
      "Covariance Type:            nonrobust   LLR p-value:                 6.282e-05\n",
      "==============================================================================\n",
      "                 coef    std err          z      P>|z|      [0.025      0.975]\n",
      "------------------------------------------------------------------------------\n",
      "X1             1.2130      4.293      0.283      0.778      -7.201       9.627\n",
      "X2             7.2314      9.949      0.727      0.467     -12.268      26.731\n",
      "X3             1.5898      0.709      2.243      0.025       0.201       2.979\n",
      "X4            -6.2519      3.112     -2.009      0.045     -12.351      -0.153\n",
      "==============================================================================\n",
      "AIC: 35.3827344843519\n"
     ]
    }
   ],
   "source": [
    "full_model = sm.Logit(y_train, x_train)\n",
    "full_model_fit = full_model.fit()\n",
    "print(full_model_fit.summary())"
   ]
  },
  {
   "cell_type": "code",
   "execution_count": null,
   "id": "3496a7de",
   "metadata": {},
   "outputs": [],
   "source": [
    "print(\"AIC:\", \n",
    "      aic(llf=full_model.loglike(full_model_fit.params), \n",
    "          nobs=x_train.size, \n",
    "          df_modelwc=len(full_model_fit.params)))"
   ]
  },
  {
   "cell_type": "markdown",
   "id": "00f2188d",
   "metadata": {},
   "source": [
    "# Machine Learning Approach"
   ]
  },
  {
   "cell_type": "markdown",
   "id": "ab94e7ca",
   "metadata": {},
   "source": [
    "# Model Comparison"
   ]
  },
  {
   "cell_type": "markdown",
   "id": "68e19516",
   "metadata": {},
   "source": [
    "# Discussion"
   ]
  }
 ],
 "metadata": {
  "kernelspec": {
   "display_name": "Python 3 (ipykernel)",
   "language": "python",
   "name": "python3"
  },
  "language_info": {
   "codemirror_mode": {
    "name": "ipython",
    "version": 3
   },
   "file_extension": ".py",
   "mimetype": "text/x-python",
   "name": "python",
   "nbconvert_exporter": "python",
   "pygments_lexer": "ipython3",
   "version": "3.8.9"
  }
 },
 "nbformat": 4,
 "nbformat_minor": 5
}
